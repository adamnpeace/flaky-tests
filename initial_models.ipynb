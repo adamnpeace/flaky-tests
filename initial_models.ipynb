{
 "cells": [
  {
   "cell_type": "markdown",
   "metadata": {},
   "source": [
    "# My Implementation of models in *Modeling & Ranking Flaky Tests at Apple (Memon et al., ICSE 2020)*\n",
    "\n",
    "Written by Adam Peace, 2020."
   ]
  },
  {
   "cell_type": "code",
   "execution_count": 1,
   "metadata": {},
   "outputs": [],
   "source": [
    "import numpy as np\n",
    "import pandas as pd\n",
    "from matplotlib import pyplot as plt\n",
    "from scipy import stats"
   ]
  },
  {
   "cell_type": "markdown",
   "metadata": {},
   "source": [
    "Import the paper's example, where there is assumed to be one version update per day"
   ]
  },
  {
   "cell_type": "code",
   "execution_count": 2,
   "metadata": {},
   "outputs": [
    {
     "data": {
      "text/html": [
       "<div>\n",
       "<style scoped>\n",
       "    .dataframe tbody tr th:only-of-type {\n",
       "        vertical-align: middle;\n",
       "    }\n",
       "\n",
       "    .dataframe tbody tr th {\n",
       "        vertical-align: top;\n",
       "    }\n",
       "\n",
       "    .dataframe thead th {\n",
       "        text-align: right;\n",
       "    }\n",
       "</style>\n",
       "<table border=\"1\" class=\"dataframe\">\n",
       "  <thead>\n",
       "    <tr style=\"text-align: right;\">\n",
       "      <th></th>\n",
       "      <th>day</th>\n",
       "      <th>v</th>\n",
       "      <th>tc_1</th>\n",
       "      <th>tc_2</th>\n",
       "      <th>tc_3</th>\n",
       "      <th>tc_4</th>\n",
       "    </tr>\n",
       "  </thead>\n",
       "  <tbody>\n",
       "    <tr>\n",
       "      <th>0</th>\n",
       "      <td>1</td>\n",
       "      <td>1</td>\n",
       "      <td>1</td>\n",
       "      <td>0</td>\n",
       "      <td>1</td>\n",
       "      <td>0</td>\n",
       "    </tr>\n",
       "    <tr>\n",
       "      <th>1</th>\n",
       "      <td>1</td>\n",
       "      <td>1</td>\n",
       "      <td>1</td>\n",
       "      <td>0</td>\n",
       "      <td>1</td>\n",
       "      <td>1</td>\n",
       "    </tr>\n",
       "    <tr>\n",
       "      <th>2</th>\n",
       "      <td>1</td>\n",
       "      <td>1</td>\n",
       "      <td>1</td>\n",
       "      <td>1</td>\n",
       "      <td>1</td>\n",
       "      <td>0</td>\n",
       "    </tr>\n",
       "    <tr>\n",
       "      <th>3</th>\n",
       "      <td>1</td>\n",
       "      <td>1</td>\n",
       "      <td>1</td>\n",
       "      <td>1</td>\n",
       "      <td>1</td>\n",
       "      <td>1</td>\n",
       "    </tr>\n",
       "    <tr>\n",
       "      <th>4</th>\n",
       "      <td>2</td>\n",
       "      <td>2</td>\n",
       "      <td>0</td>\n",
       "      <td>0</td>\n",
       "      <td>0</td>\n",
       "      <td>0</td>\n",
       "    </tr>\n",
       "    <tr>\n",
       "      <th>5</th>\n",
       "      <td>2</td>\n",
       "      <td>2</td>\n",
       "      <td>0</td>\n",
       "      <td>0</td>\n",
       "      <td>0</td>\n",
       "      <td>0</td>\n",
       "    </tr>\n",
       "    <tr>\n",
       "      <th>6</th>\n",
       "      <td>2</td>\n",
       "      <td>2</td>\n",
       "      <td>0</td>\n",
       "      <td>0</td>\n",
       "      <td>0</td>\n",
       "      <td>0</td>\n",
       "    </tr>\n",
       "    <tr>\n",
       "      <th>7</th>\n",
       "      <td>2</td>\n",
       "      <td>2</td>\n",
       "      <td>0</td>\n",
       "      <td>0</td>\n",
       "      <td>0</td>\n",
       "      <td>0</td>\n",
       "    </tr>\n",
       "    <tr>\n",
       "      <th>8</th>\n",
       "      <td>3</td>\n",
       "      <td>3</td>\n",
       "      <td>1</td>\n",
       "      <td>1</td>\n",
       "      <td>1</td>\n",
       "      <td>0</td>\n",
       "    </tr>\n",
       "    <tr>\n",
       "      <th>9</th>\n",
       "      <td>3</td>\n",
       "      <td>3</td>\n",
       "      <td>1</td>\n",
       "      <td>0</td>\n",
       "      <td>1</td>\n",
       "      <td>0</td>\n",
       "    </tr>\n",
       "    <tr>\n",
       "      <th>10</th>\n",
       "      <td>3</td>\n",
       "      <td>3</td>\n",
       "      <td>1</td>\n",
       "      <td>1</td>\n",
       "      <td>1</td>\n",
       "      <td>0</td>\n",
       "    </tr>\n",
       "    <tr>\n",
       "      <th>11</th>\n",
       "      <td>3</td>\n",
       "      <td>3</td>\n",
       "      <td>1</td>\n",
       "      <td>0</td>\n",
       "      <td>1</td>\n",
       "      <td>0</td>\n",
       "    </tr>\n",
       "    <tr>\n",
       "      <th>12</th>\n",
       "      <td>4</td>\n",
       "      <td>4</td>\n",
       "      <td>0</td>\n",
       "      <td>1</td>\n",
       "      <td>1</td>\n",
       "      <td>1</td>\n",
       "    </tr>\n",
       "    <tr>\n",
       "      <th>13</th>\n",
       "      <td>4</td>\n",
       "      <td>4</td>\n",
       "      <td>0</td>\n",
       "      <td>0</td>\n",
       "      <td>1</td>\n",
       "      <td>1</td>\n",
       "    </tr>\n",
       "    <tr>\n",
       "      <th>14</th>\n",
       "      <td>4</td>\n",
       "      <td>4</td>\n",
       "      <td>0</td>\n",
       "      <td>1</td>\n",
       "      <td>1</td>\n",
       "      <td>1</td>\n",
       "    </tr>\n",
       "  </tbody>\n",
       "</table>\n",
       "</div>"
      ],
      "text/plain": [
       "    day  v  tc_1  tc_2  tc_3  tc_4\n",
       "0     1  1     1     0     1     0\n",
       "1     1  1     1     0     1     1\n",
       "2     1  1     1     1     1     0\n",
       "3     1  1     1     1     1     1\n",
       "4     2  2     0     0     0     0\n",
       "5     2  2     0     0     0     0\n",
       "6     2  2     0     0     0     0\n",
       "7     2  2     0     0     0     0\n",
       "8     3  3     1     1     1     0\n",
       "9     3  3     1     0     1     0\n",
       "10    3  3     1     1     1     0\n",
       "11    3  3     1     0     1     0\n",
       "12    4  4     0     1     1     1\n",
       "13    4  4     0     0     1     1\n",
       "14    4  4     0     1     1     1"
      ]
     },
     "execution_count": 2,
     "metadata": {},
     "output_type": "execute_result"
    }
   ],
   "source": [
    "R = pd.read_csv(\"flaky_tests_example.csv\")\n",
    "R"
   ]
  },
  {
   "cell_type": "code",
   "execution_count": 3,
   "metadata": {},
   "outputs": [],
   "source": [
    "test_cases = [\"tc_1\", \"tc_2\", \"tc_3\", \"tc_4\"]"
   ]
  },
  {
   "cell_type": "code",
   "execution_count": 4,
   "metadata": {},
   "outputs": [],
   "source": [
    "def get_last_n_days(R, n):\n",
    "    return R[R.day > R.day.max() - n]\n",
    "def get_first_n_days(R, n):\n",
    "    return R[R.day <= n]"
   ]
  },
  {
   "cell_type": "markdown",
   "metadata": {},
   "source": [
    "## 3.2 Quantifying Flakiness Inside a Version"
   ]
  },
  {
   "cell_type": "code",
   "execution_count": 5,
   "metadata": {},
   "outputs": [],
   "source": [
    "def get_R_v_star(R, test_case, version=0):\n",
    "    if version == 0:\n",
    "        return list(R[test_case])\n",
    "    return list(R[R[\"v\"] == version][test_case])"
   ]
  },
  {
   "cell_type": "code",
   "execution_count": 6,
   "metadata": {},
   "outputs": [],
   "source": [
    "# Computes entropy of the given R_v_star (All reruns of SUT at version v)\n",
    "def entropy(R_v_star):\n",
    "    def log(n):\n",
    "        if n == 0:\n",
    "            return 0\n",
    "        return np.log2(n)\n",
    "\n",
    "    p_F = np.average(R_v_star) # Get probability of failure\n",
    "\n",
    "    summation = 0\n",
    "    summation += - p_F * log(p_F) # Adds entropy associated with p(F)\n",
    "    summation += - (1 - p_F) * log(1 - p_F) # Adds entropy of associated with p(P)\n",
    "    return summation"
   ]
  },
  {
   "cell_type": "markdown",
   "metadata": {},
   "source": [
    "### Entropy of each test at each version\n",
    "Note: in the paper, it is suggested that the entropy of $tc_1$ & $tc_3$ are 1. Since they have no variation inside versions, they are non-flaky thus entropy for them is 0"
   ]
  },
  {
   "cell_type": "code",
   "execution_count": 7,
   "metadata": {},
   "outputs": [
    {
     "name": "stdout",
     "output_type": "stream",
     "text": [
      "Test tc_1 at version 1 has entropy 0.000\n",
      "\n",
      "Test tc_2 at version 1 has entropy 1.000\n",
      "\n",
      "Test tc_3 at version 1 has entropy 0.000\n",
      "\n",
      "Test tc_4 at version 1 has entropy 1.000\n",
      "\n"
     ]
    }
   ],
   "source": [
    "# versions = [1, 2, 3, 4] # Uncomment as needed\n",
    "versions = [1]\n",
    "for test_case in test_cases:\n",
    "    for version in versions:\n",
    "        testSet = get_R_v_star(R, test_case, version)\n",
    "        print(\"Test {} at version {} has entropy {:.3f}\".format(test_case, version, entropy(testSet)))\n",
    "    print()"
   ]
  },
  {
   "cell_type": "code",
   "execution_count": 8,
   "metadata": {},
   "outputs": [],
   "source": [
    "def flipRate(R_v_star):\n",
    "    numFlips = 0\n",
    "    numPossibleFlips = len(R_v_star) - 1\n",
    "    if numPossibleFlips == 0:\n",
    "        numPossibleFlips = 1\n",
    "\n",
    "    lastTest = R_v_star[0]\n",
    "    for test in R_v_star:\n",
    "        if test != lastTest:\n",
    "            numFlips += 1\n",
    "            lastTest = test\n",
    "\n",
    "    return numFlips / numPossibleFlips"
   ]
  },
  {
   "cell_type": "markdown",
   "metadata": {},
   "source": [
    "### FlipRate of each test at each version"
   ]
  },
  {
   "cell_type": "code",
   "execution_count": 9,
   "metadata": {},
   "outputs": [
    {
     "name": "stdout",
     "output_type": "stream",
     "text": [
      "Test tc_1 at version 1 has flipRate 0.000\n",
      "\n",
      "Test tc_2 at version 1 has flipRate 0.333\n",
      "\n",
      "Test tc_3 at version 1 has flipRate 0.000\n",
      "\n",
      "Test tc_4 at version 1 has flipRate 1.000\n",
      "\n"
     ]
    }
   ],
   "source": [
    "# versions = [1, 2, 3, 4] # Uncomment as needed\n",
    "versions = [1]\n",
    "for test_case in test_cases:\n",
    "    for version in versions:\n",
    "        testSet = get_R_v_star(R, test_case, version)\n",
    "        print(\"Test {} at version {} has flipRate {:.3f}\".format(test_case, version, flipRate(testSet)))\n",
    "    print()"
   ]
  },
  {
   "cell_type": "markdown",
   "metadata": {},
   "source": [
    "## 3.3 Aggregating Flakiness Across Versions"
   ]
  },
  {
   "cell_type": "markdown",
   "metadata": {},
   "source": [
    "### Unweighted Flakiness"
   ]
  },
  {
   "cell_type": "code",
   "execution_count": 10,
   "metadata": {},
   "outputs": [
    {
     "name": "stdout",
     "output_type": "stream",
     "text": [
      "tc_2 U_FR is 0.44 and U_E is 0.67\n",
      "tc_4 U_FR is 0.33 and U_E is 0.33\n"
     ]
    }
   ],
   "source": [
    "def flakiness_unweighted(R, H, test_case, f=flipRate):\n",
    "    summation = 0\n",
    "    testSet = get_first_n_days(R, H)\n",
    "    \n",
    "    presentVersions = testSet[\"v\"].unique()\n",
    "\n",
    "    for version in presentVersions:\n",
    "        R_v_star = get_R_v_star(testSet, test_case, version)\n",
    "        if len(R_v_star) > 0:\n",
    "            summation += f(R_v_star)\n",
    "    return summation / H\n",
    "\n",
    "print(\"tc_2 U_FR is {:.2f} and U_E is {:.2f}\".format(\n",
    "    flakiness_unweighted(R, 3, \"tc_2\"), \n",
    "    flakiness_unweighted(R, 3, \"tc_2\", f=entropy)\n",
    "))\n",
    "print(\"tc_4 U_FR is {:.2f} and U_E is {:.2f}\".format(\n",
    "    flakiness_unweighted(R, 3, \"tc_4\"), \n",
    "    flakiness_unweighted(R, 3, \"tc_4\", f=entropy)\n",
    "))"
   ]
  },
  {
   "cell_type": "markdown",
   "metadata": {},
   "source": [
    "### Non-recursive Solution for weighted flakiness. Unknown if accurate"
   ]
  },
  {
   "cell_type": "code",
   "execution_count": 11,
   "metadata": {},
   "outputs": [],
   "source": [
    "def flakiness_weighted_naive(R, test_case, l=0.1, f=flipRate):\n",
    "    numerator = 0\n",
    "    denominator = 0\n",
    "    for index, version in enumerate(reversed(R.v.unique())):\n",
    "        numerator += np.power(0.9, index) * f(get_R_v_star(R, test_case, version))\n",
    "        denominator += np.power(0.9, index)\n",
    "    return numerator / denominator\n",
    "\n",
    "# print(\"tc_2 W_FR is {:.2f} and W_E is {:.2f}\".format(\n",
    "#     flakiness_weighted_naive(R, \"tc_2\"), \n",
    "#     flakiness_weighted_naive(R, \"tc_2\", f=entropy)\n",
    "# ))\n",
    "# print(\"tc_4 W_FR is {:.2f} and W_E is {:.2f}\".format(\n",
    "#     flakiness_weighted_naive(R, \"tc_4\"), \n",
    "#     flakiness_weighted_naive(R, \"tc_4\", f=entropy)\n",
    "# ))"
   ]
  },
  {
   "cell_type": "markdown",
   "metadata": {},
   "source": [
    "### Weighted Flakiness\n",
    "Once again, the paper suggests the $W_E$ for $tc_2$ is 0.76. My result for $R_{tc_1, v_1, *}$ is 0.918, leading my final score to be 0.741"
   ]
  },
  {
   "cell_type": "code",
   "execution_count": 12,
   "metadata": {},
   "outputs": [
    {
     "name": "stdout",
     "output_type": "stream",
     "text": [
      "tc_2 W_FR is 0.62 and W_E is 0.741\n",
      "tc_4 W_FR is 0.21 and W_E is 0.212\n"
     ]
    }
   ],
   "source": [
    "def flakiness_weighted(R, n, test_case, f=flipRate, l=0.1, P=1):\n",
    "    def Z(R, n, test_case, l=0.1, f=flipRate):\n",
    "        def get_t_from_v(v):\n",
    "            return v\n",
    "\n",
    "        if n == 1:\n",
    "            return f(get_R_v_star(R, test_case, get_t_from_v(n)))\n",
    "        return f(get_R_v_star(R, test_case, get_t_from_v(n))) + (1 - l) * Z(R, n-1, test_case, f=f)\n",
    "\n",
    "    def normalizer(n, l=0.1):\n",
    "        summation = 0\n",
    "        for i in range(n):\n",
    "            summation += np.power((1 - l), i)\n",
    "        return summation\n",
    "\n",
    "    return Z(R, n, test_case, l=l, f=f) / normalizer(n, l)\n",
    "\n",
    "print(\"tc_2 W_FR is {:.2f} and W_E is {:.3f}\".format(\n",
    "    flakiness_weighted(R, 4, \"tc_2\"), \n",
    "    flakiness_weighted(R, 4, \"tc_2\", f=entropy)\n",
    "))\n",
    "print(\"tc_4 W_FR is {:.2f} and W_E is {:.3f}\".format(\n",
    "    flakiness_weighted(R, 4, \"tc_4\"), \n",
    "    flakiness_weighted(R, 4, \"tc_4\", f=entropy)\n",
    "))"
   ]
  },
  {
   "cell_type": "code",
   "execution_count": null,
   "metadata": {},
   "outputs": [],
   "source": []
  }
 ],
 "metadata": {
  "kernelspec": {
   "display_name": "Python 3",
   "language": "python",
   "name": "python3"
  },
  "language_info": {
   "codemirror_mode": {
    "name": "ipython",
    "version": 3
   },
   "file_extension": ".py",
   "mimetype": "text/x-python",
   "name": "python",
   "nbconvert_exporter": "python",
   "pygments_lexer": "ipython3",
   "version": "3.8.1"
  }
 },
 "nbformat": 4,
 "nbformat_minor": 4
}
